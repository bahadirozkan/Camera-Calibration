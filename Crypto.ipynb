{
  "nbformat": 4,
  "nbformat_minor": 0,
  "metadata": {
    "colab": {
      "name": "Crypto.ipynb",
      "provenance": [],
      "collapsed_sections": [],
      "authorship_tag": "ABX9TyPkr/EGEvliEMd+ZWs8uvh9",
      "include_colab_link": true
    },
    "kernelspec": {
      "name": "python3",
      "display_name": "Python 3"
    }
  },
  "cells": [
    {
      "cell_type": "markdown",
      "metadata": {
        "id": "view-in-github",
        "colab_type": "text"
      },
      "source": [
        "<a href=\"https://colab.research.google.com/github/bahadirozkan/Camera-Calibration/blob/master/Crypto.ipynb\" target=\"_parent\"><img src=\"https://colab.research.google.com/assets/colab-badge.svg\" alt=\"Open In Colab\"/></a>"
      ]
    },
    {
      "cell_type": "code",
      "metadata": {
        "id": "ccSsn6TA_bye",
        "colab_type": "code",
        "colab": {}
      },
      "source": [
        "dec = \"lrvmnir bpr sumvbwvr jx bpr lmiwv yjeryrkbi jx qmbm wi \\\n",
        "bpr xjvni mkd ymibrut jx irhx wi bpr riirkvr jx \\\n",
        "ymbinlmtmipw utn qmumbr dj w ipmhh but bj rhnvwdmbr bpr \\\n",
        "yjeryrkbi jx bpr qmbm mvvjudwko bj yt wkbrusurbmbwjk \\\n",
        "lmird jk xjubt trmui jx ibndt \\\n",
        "wb wi kjb mk rmit bmiq bj rashmwk rmvp yjeryrkb mkd wbi \\\n",
        "iwokwxwvmkvr mkd ijyr ynib urymwk nkrashmwkrd bj ower m \\\n",
        "vjyshrbr rashmkmbwjk jkr cjnhd pmer bj lr fnmhwxwrd mkd \\\n",
        "wkiswurd bj invp mk rabrkb bpmb pr vjnhd urmvp bpr ibmbr \\\n",
        "jx rkhwopbrkrd ywkd vmsmlhr jx urvjokwgwko ijnkdhrii \\\n",
        "ijnkd mkd ipmsrhrii ipmsr w dj kjb drry ytirhx bpr xwkmh \\\n",
        "mnbpjuwbt lnb yt rasruwrkvr cwbp qmbm pmi hrxb kj djnlb \\\n",
        "bpmb bpr xjhhjcwko wi bpr sujsru msshwvmbwjk mkd \\\n",
        "wkbrusurbmbwjk w jxxru yt bprjuwri wk bpr pjsr bpmb bpr \\\n",
        "riirkvr jx jqwkmcmk qmumbr cwhh urymwk wkbmvb\""
      ],
      "execution_count": 0,
      "outputs": []
    },
    {
      "cell_type": "code",
      "metadata": {
        "id": "SgYpefqRAO6t",
        "colab_type": "code",
        "colab": {}
      },
      "source": [
        "LETTERS = 'ABCDEFGHIJKLMNOPQRSTUVWXYZ'"
      ],
      "execution_count": 0,
      "outputs": []
    },
    {
      "cell_type": "code",
      "metadata": {
        "id": "mArUhZlzAPio",
        "colab_type": "code",
        "colab": {}
      },
      "source": [
        "def getLetterCount(message):\n",
        "# Returns a dictionary with keys of single letters and values of the\n",
        "# count of how many times they appear in the message parameter.\n",
        "  letterCount = {'A': 0, 'B': 0, 'C': 0, 'D': 0, 'E': 0, 'F': 0, 'G': 0, 'H': 0, 'I': 0, 'J': 0, 'K': 0, 'L': 0, 'M': 0, 'N': 0, 'O': 0, 'P': 0, 'Q': 0, 'R': 0, 'S': 0, 'T': 0, 'U': 0, 'V': 0, 'W': 0, 'X': 0, 'Y': 0, 'Z': 0}\n",
        "  for letter in message.upper():\n",
        "    if letter in LETTERS:\n",
        "      letterCount[letter] += 1\n",
        "  return letterCount"
      ],
      "execution_count": 0,
      "outputs": []
    },
    {
      "cell_type": "code",
      "metadata": {
        "id": "cIs4Nj-vA9vN",
        "colab_type": "code",
        "colab": {}
      },
      "source": [
        "letterCount = {'A': 0, 'B': 0, 'C': 0, 'D': 0, 'E': 0, 'F': 0, 'G': 0, 'H': 0, 'I': 0, 'J': 0, 'K': 0, 'L': 0, 'M': 0, 'N': 0, 'O': 0, 'P': 0, 'Q': 0, 'R': 0, 'S': 0, 'T': 0, 'U': 0, 'V': 0, 'W': 0, 'X': 0, 'Y': 0, 'Z': 0}\n",
        "for letter in dec.upper():\n",
        "  if letter in LETTERS:\n",
        "    letterCount[letter] += 1"
      ],
      "execution_count": 0,
      "outputs": []
    },
    {
      "cell_type": "code",
      "metadata": {
        "id": "pVrTB3iyEjJA",
        "colab_type": "code",
        "colab": {}
      },
      "source": [
        "freq_let = 'ETIANORSHCLMDGFUPBWYVKXQJZ'"
      ],
      "execution_count": 0,
      "outputs": []
    },
    {
      "cell_type": "code",
      "metadata": {
        "id": "tzG05MSFI_0L",
        "colab_type": "code",
        "colab": {}
      },
      "source": [
        "ord_let = sorted(letterCount.items(), key = \n",
        "             lambda kv:(kv[1], kv[0]),reverse=True)"
      ],
      "execution_count": 0,
      "outputs": []
    },
    {
      "cell_type": "code",
      "metadata": {
        "id": "ayjvyCsSJDHL",
        "colab_type": "code",
        "outputId": "53a17162-58a7-435d-f4b9-f45adc6eb92b",
        "colab": {
          "base_uri": "https://localhost:8080/",
          "height": 34
        }
      },
      "source": [
        "nlet = \"\"\n",
        "for l in ord_let:\n",
        "  nlet += l[0][0]\n",
        "nlet"
      ],
      "execution_count": 0,
      "outputs": [
        {
          "output_type": "execute_result",
          "data": {
            "text/plain": [
              "'RBMKJWIPUHDVXYSNTLQOECAGFZ'"
            ]
          },
          "metadata": {
            "tags": []
          },
          "execution_count": 35
        }
      ]
    },
    {
      "cell_type": "code",
      "metadata": {
        "id": "HgH69gek3mNN",
        "colab_type": "code",
        "colab": {}
      },
      "source": [
        "list(letterCount.values())[0] = 10"
      ],
      "execution_count": 0,
      "outputs": []
    },
    {
      "cell_type": "code",
      "metadata": {
        "id": "hUVLeI2i3-Aw",
        "colab_type": "code",
        "outputId": "dee72bb0-8c97-46f3-f55d-8c8a1a7ce33e",
        "colab": {
          "base_uri": "https://localhost:8080/",
          "height": 459
        }
      },
      "source": [
        "freq_count = {}\n",
        "a = 0\n",
        "for i in list(letterCount.keys()):\n",
        "  freq_count[i] = list(letterCount.values())[a] / len(dec) * 100\n",
        "  a+=1\n",
        "\n",
        "freq_count"
      ],
      "execution_count": 0,
      "outputs": [
        {
          "output_type": "execute_result",
          "data": {
            "text/plain": [
              "{'A': 0.6385696040868455,\n",
              " 'B': 8.684546615581098,\n",
              " 'C': 0.6385696040868455,\n",
              " 'D': 2.937420178799489,\n",
              " 'E': 0.6385696040868455,\n",
              " 'F': 0.1277139208173691,\n",
              " 'G': 0.1277139208173691,\n",
              " 'H': 2.937420178799489,\n",
              " 'I': 5.236270753512133,\n",
              " 'J': 6.130268199233716,\n",
              " 'K': 6.257982120051085,\n",
              " 'L': 1.0217113665389528,\n",
              " 'M': 7.918263090676884,\n",
              " 'N': 2.1711366538952745,\n",
              " 'O': 0.8939974457215836,\n",
              " 'P': 3.8314176245210727,\n",
              " 'Q': 0.8939974457215836,\n",
              " 'R': 10.727969348659004,\n",
              " 'S': 2.1711366538952745,\n",
              " 'T': 1.6602809706257982,\n",
              " 'U': 3.065134099616858,\n",
              " 'V': 2.80970625798212,\n",
              " 'W': 6.002554278416347,\n",
              " 'X': 2.554278416347382,\n",
              " 'Y': 2.4265644955300125,\n",
              " 'Z': 0.0}"
            ]
          },
          "metadata": {
            "tags": []
          },
          "execution_count": 37
        }
      ]
    },
    {
      "cell_type": "code",
      "metadata": {
        "id": "iUPGMWwhLCbI",
        "colab_type": "code",
        "colab": {}
      },
      "source": [
        "enc = \"\"\n",
        "for i in dec.upper():\n",
        "  if i == ' ':\n",
        "    enc += ' '\n",
        "    continue\n",
        "  ind = nlet.index(i)\n",
        "  #print(i)\n",
        "  #print(ind)\n",
        "  #print(freq_let[ind])\n",
        "  enc += freq_let[ind]"
      ],
      "execution_count": 0,
      "outputs": []
    },
    {
      "cell_type": "code",
      "metadata": {
        "id": "4W0KJEfWeKf8",
        "colab_type": "code",
        "outputId": "d3194009-811f-40f3-c797-ce41ae8410b1",
        "colab": {
          "base_uri": "https://localhost:8080/",
          "height": 54
        }
      },
      "source": [
        "enc"
      ],
      "execution_count": 0,
      "outputs": [
        {
          "output_type": "execute_result",
          "data": {
            "text/plain": [
              "'BEMIURE TSE FHIMTOME ND TSE BIROM GNVEGEATR ND WITI OR TSE DNMUR IAL GIRTEHP ND RECD OR TSE ERREAME ND GITRUBIPIRSO HPU WIHITE LN O RSICC THP TN ECUMOLITE TSE GNVEGEATR ND TSE WITI IMMNHLOAY TN GP OATEHFHETITONA BIREL NA DNHTP PEIHR ND RTULP OT OR ANT IA EIRP TIRW TN EXFCIOA EIMS GNVEGEAT IAL OTR ROYAODOMIAME IAL RNGE GURT HEGIOA UAEXFCIOAEL TN YOVE I MNGFCETE EXFCIAITONA NAE KNUCL SIVE TN BE JUICODOEL IAL OARFOHEL TN RUMS IA EXTEAT TSIT SE MNUCL HEIMS TSE RTITE ND EACOYSTEAEL GOAL MIFIBCE ND HEMNYAOQOAY RNUALCERR RNUAL IAL RSIFECERR RSIFE O LN ANT LEEG GPRECD TSE DOAIC IUTSNHOTP BUT GP EXFEHOEAME KOTS WITI SIR CEDT AN LNUBT TSIT TSE DNCCNKOAY OR TSE FHNFEH IFFCOMITONA IAL OATEHFHETITONA O NDDEH GP TSENHOER OA TSE SNFE TSIT TSE ERREAME ND NWOAIKIA WIHITE KOCC HEGIOA OATIMT'"
            ]
          },
          "metadata": {
            "tags": []
          },
          "execution_count": 39
        }
      ]
    },
    {
      "cell_type": "code",
      "metadata": {
        "id": "XyuWYMZyeqXF",
        "colab_type": "code",
        "outputId": "c7fca3ff-48ea-4235-f057-5278dc1793b6",
        "colab": {
          "base_uri": "https://localhost:8080/",
          "height": 54
        }
      },
      "source": [
        "enc1 = enc.replace('S','H')\n",
        "enc1"
      ],
      "execution_count": 0,
      "outputs": [
        {
          "output_type": "execute_result",
          "data": {
            "text/plain": [
              "'BEMIURE THE FHIMTOME ND THE BIROM GNVEGEATR ND WITI OR THE DNMUR IAL GIRTEHP ND RECD OR THE ERREAME ND GITRUBIPIRHO HPU WIHITE LN O RHICC THP TN ECUMOLITE THE GNVEGEATR ND THE WITI IMMNHLOAY TN GP OATEHFHETITONA BIREL NA DNHTP PEIHR ND RTULP OT OR ANT IA EIRP TIRW TN EXFCIOA EIMH GNVEGEAT IAL OTR ROYAODOMIAME IAL RNGE GURT HEGIOA UAEXFCIOAEL TN YOVE I MNGFCETE EXFCIAITONA NAE KNUCL HIVE TN BE JUICODOEL IAL OARFOHEL TN RUMH IA EXTEAT THIT HE MNUCL HEIMH THE RTITE ND EACOYHTEAEL GOAL MIFIBCE ND HEMNYAOQOAY RNUALCERR RNUAL IAL RHIFECERR RHIFE O LN ANT LEEG GPRECD THE DOAIC IUTHNHOTP BUT GP EXFEHOEAME KOTH WITI HIR CEDT AN LNUBT THIT THE DNCCNKOAY OR THE FHNFEH IFFCOMITONA IAL OATEHFHETITONA O NDDEH GP THENHOER OA THE HNFE THIT THE ERREAME ND NWOAIKIA WIHITE KOCC HEGIOA OATIMT'"
            ]
          },
          "metadata": {
            "tags": []
          },
          "execution_count": 40
        }
      ]
    },
    {
      "cell_type": "code",
      "metadata": {
        "id": "f522QGBbdYjQ",
        "colab_type": "code",
        "outputId": "231749a2-19f3-4469-a608-a2dd928497b0",
        "colab": {
          "base_uri": "https://localhost:8080/",
          "height": 54
        }
      },
      "source": [
        "enc2 = enc1.replace('N','O')\n",
        "enc2"
      ],
      "execution_count": 0,
      "outputs": [
        {
          "output_type": "execute_result",
          "data": {
            "text/plain": [
              "'BEMIURE THE FHIMTOME OD THE BIROM GOVEGEATR OD WITI OR THE DOMUR IAL GIRTEHP OD RECD OR THE ERREAME OD GITRUBIPIRHO HPU WIHITE LO O RHICC THP TO ECUMOLITE THE GOVEGEATR OD THE WITI IMMOHLOAY TO GP OATEHFHETITOOA BIREL OA DOHTP PEIHR OD RTULP OT OR AOT IA EIRP TIRW TO EXFCIOA EIMH GOVEGEAT IAL OTR ROYAODOMIAME IAL ROGE GURT HEGIOA UAEXFCIOAEL TO YOVE I MOGFCETE EXFCIAITOOA OAE KOUCL HIVE TO BE JUICODOEL IAL OARFOHEL TO RUMH IA EXTEAT THIT HE MOUCL HEIMH THE RTITE OD EACOYHTEAEL GOAL MIFIBCE OD HEMOYAOQOAY ROUALCERR ROUAL IAL RHIFECERR RHIFE O LO AOT LEEG GPRECD THE DOAIC IUTHOHOTP BUT GP EXFEHOEAME KOTH WITI HIR CEDT AO LOUBT THIT THE DOCCOKOAY OR THE FHOFEH IFFCOMITOOA IAL OATEHFHETITOOA O ODDEH GP THEOHOER OA THE HOFE THIT THE ERREAME OD OWOAIKIA WIHITE KOCC HEGIOA OATIMT'"
            ]
          },
          "metadata": {
            "tags": []
          },
          "execution_count": 41
        }
      ]
    },
    {
      "cell_type": "code",
      "metadata": {
        "id": "hNQq3vRmd6j4",
        "colab_type": "code",
        "outputId": "8d8e6857-e870-44e7-d065-9229248afd8b",
        "colab": {
          "base_uri": "https://localhost:8080/",
          "height": 54
        }
      },
      "source": [
        "#enc3 = enc2.replace('R','S')\n",
        "enc3 = enc2.replace('D','F')\n",
        "enc3"
      ],
      "execution_count": 0,
      "outputs": [
        {
          "output_type": "execute_result",
          "data": {
            "text/plain": [
              "'BEMIURE THE FHIMTOME OF THE BIROM GOVEGEATR OF WITI OR THE FOMUR IAL GIRTEHP OF RECF OR THE ERREAME OF GITRUBIPIRHO HPU WIHITE LO O RHICC THP TO ECUMOLITE THE GOVEGEATR OF THE WITI IMMOHLOAY TO GP OATEHFHETITOOA BIREL OA FOHTP PEIHR OF RTULP OT OR AOT IA EIRP TIRW TO EXFCIOA EIMH GOVEGEAT IAL OTR ROYAOFOMIAME IAL ROGE GURT HEGIOA UAEXFCIOAEL TO YOVE I MOGFCETE EXFCIAITOOA OAE KOUCL HIVE TO BE JUICOFOEL IAL OARFOHEL TO RUMH IA EXTEAT THIT HE MOUCL HEIMH THE RTITE OF EACOYHTEAEL GOAL MIFIBCE OF HEMOYAOQOAY ROUALCERR ROUAL IAL RHIFECERR RHIFE O LO AOT LEEG GPRECF THE FOAIC IUTHOHOTP BUT GP EXFEHOEAME KOTH WITI HIR CEFT AO LOUBT THIT THE FOCCOKOAY OR THE FHOFEH IFFCOMITOOA IAL OATEHFHETITOOA O OFFEH GP THEOHOER OA THE HOFE THIT THE ERREAME OF OWOAIKIA WIHITE KOCC HEGIOA OATIMT'"
            ]
          },
          "metadata": {
            "tags": []
          },
          "execution_count": 42
        }
      ]
    },
    {
      "cell_type": "code",
      "metadata": {
        "id": "eU76SDrEd70q",
        "colab_type": "code",
        "outputId": "0f7cd5bd-dbbf-4ce3-807e-4e485c24a87c",
        "colab": {
          "base_uri": "https://localhost:8080/",
          "height": 54
        }
      },
      "source": [
        "enc4 = enc3.replace('A','N')\n",
        "enc5 = enc4.replace('M','C')\n",
        "enc6 = enc5.replace('I','A')\n",
        "enc7 = enc6.replace('P','Y')\n",
        "enc8 = enc7.replace('R','S')\n",
        "enc9 = enc8.replace('G','M')\n",
        "enc10 = enc9.replace('L','D')\n",
        "enc11 = enc10.replace('P','Y')\n",
        "enc12 = enc11.replace('W','K')\n",
        "enc12"
      ],
      "execution_count": 0,
      "outputs": [
        {
          "output_type": "execute_result",
          "data": {
            "text/plain": [
              "'BECAUSE THE FHACTOCE OF THE BASOC MOVEMENTS OF KATA OS THE FOCUS AND MASTEHY OF SECF OS THE ESSENCE OF MATSUBAYASHO HYU KAHATE DO O SHACC THY TO ECUCODATE THE MOVEMENTS OF THE KATA ACCOHDONY TO MY ONTEHFHETATOON BASED ON FOHTY YEAHS OF STUDY OT OS NOT AN EASY TASK TO EXFCAON EACH MOVEMENT AND OTS SOYNOFOCANCE AND SOME MUST HEMAON UNEXFCAONED TO YOVE A COMFCETE EXFCANATOON ONE KOUCD HAVE TO BE JUACOFOED AND ONSFOHED TO SUCH AN EXTENT THAT HE COUCD HEACH THE STATE OF ENCOYHTENED MOND CAFABCE OF HECOYNOQONY SOUNDCESS SOUND AND SHAFECESS SHAFE O DO NOT DEEM MYSECF THE FONAC AUTHOHOTY BUT MY EXFEHOENCE KOTH KATA HAS CEFT NO DOUBT THAT THE FOCCOKONY OS THE FHOFEH AFFCOCATOON AND ONTEHFHETATOON O OFFEH MY THEOHOES ON THE HOFE THAT THE ESSENCE OF OKONAKAN KAHATE KOCC HEMAON ONTACT'"
            ]
          },
          "metadata": {
            "tags": []
          },
          "execution_count": 43
        }
      ]
    },
    {
      "cell_type": "code",
      "metadata": {
        "id": "TavjpfS9erM6",
        "colab_type": "code",
        "colab": {}
      },
      "source": [
        "q2 = \"falszztysyjzyjkywjrztyjztyynaryjkyswarztyegyyj\""
      ],
      "execution_count": 0,
      "outputs": []
    },
    {
      "cell_type": "code",
      "metadata": {
        "id": "5eGK-P1H9HB9",
        "colab_type": "code",
        "colab": {}
      },
      "source": [
        "#From https://en.wikibooks.org/wiki/Algorithm_Implementation/Mathematics/Extended_Euclidean_algorithm\n",
        "def egcd(a, b):\n",
        "    if a == 0:\n",
        "        return (b, 0, 1)\n",
        "    else:\n",
        "        g, y, x = egcd(b % a, a)\n",
        "        return (g, x - (b // a) * y, y)\n",
        "\n",
        "def modinv(a, m):\n",
        "    g, x, y = egcd(a, m)\n",
        "    if g != 1:\n",
        "        raise Exception('modular inverse does not exist')\n",
        "    else:\n",
        "        return x % m"
      ],
      "execution_count": 0,
      "outputs": []
    },
    {
      "cell_type": "code",
      "metadata": {
        "id": "3lT7KdPS65yG",
        "colab_type": "code",
        "outputId": "582500ff-a032-4875-cac9-f1b97eff69d3",
        "colab": {
          "base_uri": "https://localhost:8080/",
          "height": 34
        }
      },
      "source": [
        "a = 7\n",
        "b = 22\n",
        "res = \"\"\n",
        "\n",
        "ainv = modinv(7,26)\n",
        "\n",
        "for j in q2.upper():\n",
        "  res += LETTERS[(ainv * (LETTERS.index(j)-b)) % 26]\n",
        "\n",
        "print(res)"
      ],
      "execution_count": 0,
      "outputs": [
        {
          "output_type": "stream",
          "text": [
            "FIRSTTHESENTENCEANDTHENTHEEVIDENCESAIDTHEQUEEN\n"
          ],
          "name": "stdout"
        }
      ]
    },
    {
      "cell_type": "code",
      "metadata": {
        "id": "-RPpG15z85Kp",
        "colab_type": "code",
        "colab": {}
      },
      "source": [
        ""
      ],
      "execution_count": 0,
      "outputs": []
    }
  ]
}